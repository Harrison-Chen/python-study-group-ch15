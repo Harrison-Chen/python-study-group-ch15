{
 "cells": [
  {
   "cell_type": "markdown",
   "metadata": {
    "id": "eDs9bbYQtqG2"
   },
   "source": [
    "# **<font color=#0abab5>Process and Concurrency</font>**"
   ]
  },
  {
   "cell_type": "markdown",
   "metadata": {},
   "source": [
    "### Programs and Processes\n",
    "\n",
    "理論內容跟大學作業系統課差不多，感覺可省略"
   ]
  },
  {
   "cell_type": "code",
   "execution_count": 5,
   "metadata": {
    "id": "NpCXbtmnc29Q"
   },
   "outputs": [
    {
     "data": {
      "text/plain": [
       "10701"
      ]
     },
     "execution_count": 5,
     "metadata": {},
     "output_type": "execute_result"
    }
   ],
   "source": [
    "import os \n",
    "os.getpid() # process id"
   ]
  },
  {
   "cell_type": "markdown",
   "metadata": {},
   "source": [
    "### Create a process with subprocess\n",
    "\n",
    "程式碼預設是用一個process去進行，但可以利用os提供的api從process上創造其他的process叫subprocess\n",
    "下面這段利用subprocess程式庫呼叫linux(雖然我是mac)上的date，並抓取stdout來做使用"
   ]
  },
  {
   "cell_type": "code",
   "execution_count": 8,
   "metadata": {},
   "outputs": [
    {
     "data": {
      "text/plain": [
       "'2022年12月 2日 週五 20時23分11秒 CST'"
      ]
     },
     "execution_count": 8,
     "metadata": {},
     "output_type": "execute_result"
    }
   ],
   "source": [
    "import subprocess\n",
    "ret = subprocess.getoutput('date')\n",
    "ret"
   ]
  },
  {
   "cell_type": "code",
   "execution_count": 9,
   "metadata": {},
   "outputs": [
    {
     "data": {
      "text/plain": [
       "'2022年12月 2日 週五 12時26分03秒 UTC'"
      ]
     },
     "execution_count": 9,
     "metadata": {},
     "output_type": "execute_result"
    }
   ],
   "source": [
    "ret = subprocess.getoutput('date -u')\n",
    "ret"
   ]
  },
  {
   "cell_type": "code",
   "execution_count": 10,
   "metadata": {},
   "outputs": [
    {
     "data": {
      "text/plain": [
       "'       1       5      45'"
      ]
     },
     "execution_count": 10,
     "metadata": {},
     "output_type": "execute_result"
    }
   ],
   "source": [
    "# or with pipe\n",
    "ret = subprocess.getoutput('date -u | wc')\n",
    "ret"
   ]
  },
  {
   "cell_type": "code",
   "execution_count": 11,
   "metadata": {},
   "outputs": [
    {
     "data": {
      "text/plain": [
       "b'2022\\xe5\\xb9\\xb412\\xe6\\x9c\\x88 2\\xe6\\x97\\xa5 \\xe9\\x80\\xb1\\xe4\\xba\\x94 12\\xe6\\x99\\x8236\\xe5\\x88\\x8646\\xe7\\xa7\\x92 UTC\\n'"
      ]
     },
     "execution_count": 11,
     "metadata": {},
     "output_type": "execute_result"
    }
   ],
   "source": [
    "# check_output method\n",
    "ret = subprocess.check_output(['date', '-u'])\n",
    "ret"
   ]
  },
  {
   "cell_type": "code",
   "execution_count": 12,
   "metadata": {},
   "outputs": [
    {
     "data": {
      "text/plain": [
       "(0, '2022年12月 2日 週五 20時37分16秒 CST')"
      ]
     },
     "execution_count": 12,
     "metadata": {},
     "output_type": "execute_result"
    }
   ],
   "source": [
    "# exit code\n",
    "ret = subprocess.getstatusoutput('date')\n",
    "ret"
   ]
  },
  {
   "cell_type": "code",
   "execution_count": 14,
   "metadata": {},
   "outputs": [
    {
     "name": "stdout",
     "output_type": "stream",
     "text": [
      "2022年12月 2日 週五 20時38分41秒 CST\n"
     ]
    },
    {
     "data": {
      "text/plain": [
       "0"
      ]
     },
     "execution_count": 14,
     "metadata": {},
     "output_type": "execute_result"
    }
   ],
   "source": [
    "# dont care output but exit code\n",
    "ret = subprocess.call('date')\n",
    "ret"
   ]
  },
  {
   "cell_type": "code",
   "execution_count": 18,
   "metadata": {},
   "outputs": [
    {
     "name": "stdout",
     "output_type": "stream",
     "text": [
      "2022年12月 2日 週五 12時40分50秒 UTC\n",
      "2022年12月 2日 週五 12時40分50秒 UTC\n"
     ]
    }
   ],
   "source": [
    "# in shell script format\n",
    "ret = subprocess.call('date -u', shell = True)\n",
    "\n",
    "# list of arg way\n",
    "ret = subprocess.call(['date', '-u'])"
   ]
  },
  {
   "cell_type": "markdown",
   "metadata": {},
   "source": [
    "### Create process with multiprocessing"
   ]
  },
  {
   "cell_type": "code",
   "execution_count": null,
   "metadata": {},
   "outputs": [],
   "source": [
    "# 不能在juypter跑，另外跑\n",
    "from multiprocessing import Process\n",
    "import os\n",
    "\n",
    "def whoami(what):\n",
    "    print(\"Process %s says: %s\" % (os.getpid(), what))\n",
    "\n",
    "if __name__ == \"__main__\": \n",
    "    whoami(\"I'm the main program\") \n",
    "    for n in range(4):\n",
    "        p = Process(target=whoami,\n",
    "            args=(\"I'm function %s\" % n,))\n",
    "        p.start()"
   ]
  },
  {
   "cell_type": "markdown",
   "metadata": {},
   "source": [
    "multipreocessing module非常實用，可以用在所有外部程式的呼叫以及把資料跟python腳本互動\n",
    "在後面concurrency段落有更多應用"
   ]
  },
  {
   "cell_type": "code",
   "execution_count": null,
   "metadata": {},
   "outputs": [],
   "source": [
    "# kill process\n",
    "\n",
    "# 另外執行\n",
    "import multiprocessing\n",
    "import time\n",
    "import os\n",
    "def whoami(name):\n",
    "    print(\"I'm %s, in process %s\" % (name, os.getpid()))\n",
    "\n",
    "def loopy(name): \n",
    "    whoami(name)\n",
    "    start = 1\n",
    "    stop = 1000000\n",
    "    for num in range(start, stop):\n",
    "        print(\"\\tNumber %s of %s. Honk!\" % (num, stop))\n",
    "        time.sleep(1)\n",
    "\n",
    "if __name__ == \"__main__\": \n",
    "    whoami(\"main\")\n",
    "    p = multiprocessing.Process(target=loopy, args=(\"loopy\",))\n",
    "    p.start()\n",
    "    time.sleep(5)\n",
    "    p.terminate()"
   ]
  },
  {
   "cell_type": "markdown",
   "metadata": {},
   "source": [
    "### Command Automation\n",
    "\n",
    "用python來管理、執行類似shell script用途的操作\n",
    "\n",
    "#### Invoke\n",
    "把function呼叫轉成command line arguments"
   ]
  },
  {
   "cell_type": "code",
   "execution_count": null,
   "metadata": {},
   "outputs": [],
   "source": [
    "import os\n",
    "os.system('pip install invoke')"
   ]
  },
  {
   "cell_type": "code",
   "execution_count": 43,
   "metadata": {},
   "outputs": [],
   "source": [
    "# run my cli\n",
    "from invoke import task\n",
    "\n",
    "@task\n",
    "def mytime(ctx): \n",
    "    import time\n",
    "    now = time.time()\n",
    "    time_str = time.asctime(time.localtime(now)) \n",
    "    print(\"Local time is\", timestr)"
   ]
  },
  {
   "cell_type": "markdown",
   "metadata": {},
   "source": [
    "### Concurrency\n",
    "\n",
    "concurrency = 平行運算\n",
    "這本書舉例兩個最常見的需要平行運算的情境\n",
    "\n",
    "#### I/O bound\n",
    "等網路、等硬碟\n",
    "\n",
    "#### CPU/GPU bound\n",
    "CPU/GPU在計算一個大的，導致他們一直在忙碌，圖學跟科學計算都是常見情境\n",
    "\n",
    "另外重要兩個term：\n",
    "\n",
    "- Synchrnous\n",
    "同步：連續進行\n",
    "\n",
    "- Asynchrnous\n",
    "非同步：task各自獨立運行， \n",
    "\n",
    "這段落有稍微介紹平行處理的use-case，總括就是不能夠等的情境，與其在那邊busy waiting，不如直接平行運算做其他服務該做的事"
   ]
  },
  {
   "cell_type": "markdown",
   "metadata": {},
   "source": [
    "### Queues\n",
    "\n",
    "就是FIFO的queue\n",
    "\n",
    "multiprocessing module有著queue function存在，\n",
    "可以queue各個process的順序如下"
   ]
  },
  {
   "cell_type": "code",
   "execution_count": null,
   "metadata": {},
   "outputs": [],
   "source": [
    "# 單獨執行\n",
    "import multiprocessing as mp\n",
    "\n",
    "def washer(dishes, output): \n",
    "    for dish in dishes:\n",
    "        print('Washing', dish, 'dish') \n",
    "        output.put(dish)\n",
    "\n",
    "def dryer(input): \n",
    "    while True:\n",
    "        dish = input.get() \n",
    "        print('Drying', dish, 'dish') \n",
    "        input.task_done()\n",
    "\n",
    "if __name__ == '__main__':\n",
    "    dish_queue = mp.JoinableQueue()\n",
    "    dryer_proc = mp.Process(target=dryer, args=(dish_queue,))\n",
    "    dryer_proc.daemon = True\n",
    "    dryer_proc.start()\n",
    "\n",
    "    dishes = ['salad', 'bread', 'entree', 'dessert']\n",
    "    washer(dishes, dish_queue)\n",
    "    dish_queue.join()"
   ]
  },
  {
   "cell_type": "markdown",
   "metadata": {},
   "source": [
    "### Threads\n",
    "\n",
    "Thread是在同個process中執行，一對多的資源單元\n",
    "跟上面multiprocessing module對應，有著threading的module\n",
    "\n",
    "以下用thread進行類似上面process的任務"
   ]
  },
  {
   "cell_type": "code",
   "execution_count": 53,
   "metadata": {},
   "outputs": [
    {
     "name": "stdout",
     "output_type": "stream",
     "text": [
      "Thread <_MainThread(MainThread, started 4313335168)> says: I'm the main program\n",
      "Thread <Thread(Thread-22, started 6364196864)> says: I'm function 0\n",
      "Thread <Thread(Thread-23, started 6364196864)> says: I'm function 1\n",
      "Thread <Thread(Thread-24, started 6364196864)> says: I'm function 2\n",
      "Thread <Thread(Thread-25, started 6364196864)> says: I'm function 3\n"
     ]
    }
   ],
   "source": [
    "import threading \n",
    "\n",
    "def do_this(what):\n",
    "    whoami(what) \n",
    "\n",
    "def whoami(what):\n",
    "    print(\"Thread %s says: %s\" % (threading.current_thread(), what))\n",
    "\n",
    "if __name__ == \"__main__\": \n",
    "    whoami(\"I'm the main program\") \n",
    "    for n in range(4):\n",
    "        p = threading.Thread(target=do_this,\n",
    "                              args=(\"I'm function %s\" % n,))\n",
    "        p.start()   "
   ]
  },
  {
   "cell_type": "code",
   "execution_count": 55,
   "metadata": {},
   "outputs": [
    {
     "name": "stdout",
     "output_type": "stream",
     "text": [
      "Washing salad\n",
      "WashingDrying salad\n",
      " bread\n",
      "WashingDrying bread\n",
      " entree\n",
      "WashingDrying entree\n",
      " dessert\n",
      "Drying dessert\n"
     ]
    }
   ],
   "source": [
    "import threading, queue \n",
    "import time\n",
    "\n",
    "def washer(dishes, dish_queue): \n",
    "    for dish in dishes:\n",
    "        print (\"Washing\", dish) \n",
    "        time.sleep(5)\n",
    "        dish_queue.put(dish)\n",
    "def dryer(dish_queue): \n",
    "    while True:\n",
    "        dish = dish_queue.get() \n",
    "        print (\"Drying\", dish) \n",
    "        time.sleep(10) \n",
    "        dish_queue.task_done()\n",
    "\n",
    "dish_queue = queue.Queue() \n",
    "for n in range(2):\n",
    "    dryer_thread = threading.Thread(target=dryer, args=(dish_queue,))\n",
    "    dryer_thread.start()\n",
    "\n",
    "dishes = ['salad', 'bread', 'entree', 'dessert']\n",
    "washer(dishes, dish_queue)\n",
    "\n",
    "dish_queue.join()"
   ]
  },
  {
   "cell_type": "markdown",
   "metadata": {},
   "source": [
    "\n",
    "Threads 可能會產生危險的結果，多個thread可能會導致code難以debug\n",
    "\n",
    "要確保thread中用到的api都是thread safe的\n",
    "\n",
    "上面範例完全沒在thread safe所以亂成一團\n",
    "\n",
    "用multi-process的時候則可以確保每個process獨立運行並且獨立結束，\n",
    "\n",
    "整個process是一整組的，執行結果會在完全跑完之後才回報\n",
    "\n",
    "#### Thread safe\n",
    "\n",
    "Thread在沒有使用到global data的時候是安全且好用的，特別是在IO完成的時候可以比process快很多\n",
    "\n",
    "但thread在很多時候有必要去控制一些global data，此時就需要thread safe來確保避免preemption\n",
    "\n",
    "安全地共享資料的方法常常是使用software lock，在lock段落變動參數的時候會禁止其他thread動到這個段落\n",
    "\n",
    "#### CPU-bound\n",
    "\n",
    "書上提到python的thread沒辦法解決cpu-bound的問題，因為python interperter的Global Interpreter Lock設計\n",
    "\n",
    "所以跟傳統thread加速不一樣，python的multi-thread可能比single-thread或multi-process更慢\n",
    "\n",
    "所以書上建議：\n",
    "\n",
    "- thread 只用來處理 I/O bound problem\n",
    "- CPU bound用processes, networking or events去解決"
   ]
  },
  {
   "cell_type": "markdown",
   "metadata": {},
   "source": [
    "### concurrent.futures\n",
    "\n",
    "一個thread跟multiple的module用法，可以更方便的schedule async pooled workers\n",
    "\n",
    "照上面所述去解決各自的問題"
   ]
  },
  {
   "cell_type": "code",
   "execution_count": null,
   "metadata": {},
   "outputs": [],
   "source": [
    "# 有process單獨跑\n",
    "from concurrent import futures \n",
    "import math\n",
    "import time\n",
    "import sys\n",
    "def calc(val): \n",
    "    time.sleep(1)\n",
    "    result = math.sqrt(float(val)) \n",
    "    return result\n",
    "\n",
    "def use_threads(num, values): \n",
    "    t1 = time.time()\n",
    "    with futures.ThreadPoolExecutor(num) as tex: \n",
    "        results = tex.map(calc, values)\n",
    "    t2 = time.time() \n",
    "    return t2 - t1\n",
    "\n",
    "def use_processes(num, values): \n",
    "    t1 = time.time()\n",
    "    with futures.ProcessPoolExecutor(num) as pex: \n",
    "        results = pex.map(calc, values)\n",
    "    t2 = time.time() \n",
    "    return t2 - t1\n",
    "\n",
    "def main(workers, values):\n",
    "    print(f\"Using {workers} workers for {len(values)} values\") \n",
    "    t_sec = use_threads(workers, values)\n",
    "    print(f\"Threads took {t_sec:.4f} seconds\")\n",
    "    p_sec = use_processes(workers, values)\n",
    "    print(f\"Processes took {p_sec:.4f} seconds\")\n",
    "    \n",
    "if __name__ == '__main__':\n",
    "    workers = 1\n",
    "    values = list(range(1, 6)) # 1 .. 5 main(workers, values)\n",
    "    main(workers, values)"
   ]
  },
  {
   "cell_type": "code",
   "execution_count": null,
   "metadata": {},
   "outputs": [],
   "source": [
    "# 有process單獨跑\n",
    "from concurrent import futures \n",
    "import math\n",
    "import sys\n",
    "\n",
    "def calc(val):\n",
    "    result = math.sqrt(float(val)) \n",
    "    return val, result\n",
    "\n",
    "def use_threads(num, values):\n",
    "    with futures.ThreadPoolExecutor(num) as tex:\n",
    "        tasks = [tex.submit(calc, value) for value in values] \n",
    "        for f in futures.as_completed(tasks):\n",
    "            yield f.result()\n",
    "\n",
    "def use_processes(num, values):\n",
    "    with futures.ProcessPoolExecutor(num) as pex:\n",
    "        tasks = [pex.submit(calc, value) for value in values] \n",
    "        for f in futures.as_completed(tasks):\n",
    "            yield f.result()\n",
    "\n",
    "def main(workers, values):\n",
    "    print(f\"Using {workers} workers for {len(values)} values\") \n",
    "    print(\"Using threads:\")\n",
    "    for val, result in use_threads(workers, values): \n",
    "        print(f'{val} {result:.4f}')\n",
    "    print(\"Using processes:\")\n",
    "    for val, result in use_processes(workers, values):\n",
    "        print(f'{val} {result:.4f}')\n",
    "\n",
    "if __name__ == '__main__': \n",
    "    workers = 3\n",
    "    if len(sys.argv) > 1:\n",
    "        workers = int(sys.argv[1])\n",
    "    values = list(range(1, 6)) # 1 .. 5 \n",
    "    main(workers, values)"
   ]
  },
  {
   "cell_type": "markdown",
   "metadata": {},
   "source": [
    "### Green Threads and gevent\n",
    "\n",
    "開發者利用平行化的方式來加速一些程式運作，apache就是這種例子\n",
    "\n",
    "而另一種則是基於事件的方式去寫程式，用一個central event loop分配任務並且進行，NGINX就是這種類型，\n",
    "\n",
    "而且他通常比apache快"
   ]
  },
  {
   "cell_type": "code",
   "execution_count": null,
   "metadata": {},
   "outputs": [],
   "source": [
    "import os\n",
    "\n",
    "os.system('pip install gevent')"
   ]
  },
  {
   "cell_type": "code",
   "execution_count": 63,
   "metadata": {},
   "outputs": [
    {
     "name": "stdout",
     "output_type": "stream",
     "text": [
      "66.6.44.4\n",
      "144.217.51.126\n",
      "172.217.160.68\n"
     ]
    }
   ],
   "source": [
    "import gevent\n",
    "from gevent import socket\n",
    "hosts = ['www.crappytaxidermy.com', 'www.walterpottertaxidermy.com',\n",
    "'www.google.com']\n",
    "jobs = [gevent.spawn(gevent.socket.gethostbyname, host) for host in hosts] \n",
    "gevent.joinall(jobs, timeout=5)\n",
    "for job in jobs:\n",
    "    print(job.value)"
   ]
  },
  {
   "cell_type": "markdown",
   "metadata": {},
   "source": [
    "透過gevent.spawn生成greenlet(green thread/microthread)，並且各自執行自己的事件，完成後再收集結果\n",
    "\n",
    "green thread和thread不同點在於它不會block，gevent在等待時會切換到其他greenlets，他們彼此是yield為主而不是搶佔\n",
    "\n",
    "應該是類似fiber的實作"
   ]
  },
  {
   "cell_type": "markdown",
   "metadata": {},
   "source": [
    "##### gevent.monkey\n",
    "\n",
    "可以替換程式中的呼叫為gevent版本\n",
    "\n",
    "```\n",
    "from gevent import monkey\n",
    "monkey.patch_socket()\n",
    "```\n",
    "\n",
    "呼叫上面這行，會讓程式中所有socket呼叫變成gevent版本\n",
    "\n",
    "注意只會替換掉python寫的函式集，c寫的不會理他"
   ]
  },
  {
   "cell_type": "code",
   "execution_count": 65,
   "metadata": {},
   "outputs": [
    {
     "name": "stdout",
     "output_type": "stream",
     "text": [
      "66.6.44.4\n",
      "144.217.51.126\n",
      "172.217.163.36\n"
     ]
    }
   ],
   "source": [
    "import gevent\n",
    "from gevent import monkey; monkey.patch_all()\n",
    "import socket\n",
    "hosts = ['www.crappytaxidermy.com', 'www.walterpottertaxidermy.com',\n",
    "'www.google.com']\n",
    "\n",
    "jobs = [gevent.spawn(socket.gethostbyname, host) for host in hosts] \n",
    "\n",
    "gevent.joinall(jobs, timeout=5)\n",
    "for job in jobs:\n",
    "    print(job.value)"
   ]
  },
  {
   "cell_type": "markdown",
   "metadata": {},
   "source": [
    "#### gevent的問題\n",
    "\n",
    "跟所有event-based的程式碼一樣，每一個指派給gevent的task應該要相對較快\n",
    "\n",
    "雖然相對thread他是非blocking的，但是在上面進行大量的執行依然很慢\n",
    "\n",
    "雖然monkey-patching的大量替換方式讓人覺得有點危險，但滿多大型網站例如pinterest都使用gevent來加速他們的網站\n",
    "\n",
    "多閱讀gevent的官方指引來避免錯誤使用才是真的。"
   ]
  },
  {
   "cell_type": "markdown",
   "metadata": {},
   "source": [
    "### Twisted\n",
    "\n",
    "twisted 是一個非同步、事件驅動的網路框架，可以聆聽一些事件的觸發來執行function。\n",
    "\n",
    "是一個callback design"
   ]
  },
  {
   "cell_type": "code",
   "execution_count": null,
   "metadata": {},
   "outputs": [],
   "source": [
    "import os\n",
    "\n",
    "os.system('pip install twisted')"
   ]
  },
  {
   "cell_type": "code",
   "execution_count": null,
   "metadata": {},
   "outputs": [],
   "source": [
    "# knock-server\n",
    "\n",
    "from twisted.internet import protocol, reactor\n",
    "\n",
    "class Knock(protocol.Protocol): \n",
    "    def dataReceived(self, data):\n",
    "        print('Client:', data)\n",
    "        if data.startswith(\"Knock knock\"):\n",
    "            response = \"Who's there?\" \n",
    "        else:\n",
    "            response = data + \" who?\" \n",
    "            print('Server:', response) \n",
    "            self.transport.write(response)\n",
    "class KnockFactory(protocol.Factory): \n",
    "    def buildProtocol(self, addr):\n",
    "        return Knock()\n",
    "\n",
    "reactor.listenTCP(8000, KnockFactory())\n",
    "reactor.run()"
   ]
  },
  {
   "cell_type": "code",
   "execution_count": null,
   "metadata": {},
   "outputs": [],
   "source": [
    "# knock-client\n",
    "\n",
    "from twisted.internet import reactor, protocol\n",
    "\n",
    "class KnockClient(protocol.Protocol): \n",
    "    def connectionMade(self):\n",
    "        self.transport.write(\"Knock knock\")\n",
    "    def dataReceived(self, data):\n",
    "        if data.startswith(\"Who's there?\"):\n",
    "            response = \"Disappearing client\"\n",
    "            self.transport.write(response) \n",
    "        else:\n",
    "            self.transport.loseConnection()\n",
    "            reactor.stop()\n",
    "class KnockFactory(protocol.ClientFactory): \n",
    "    protocol = KnockClient\n",
    "\n",
    "def main():\n",
    "    f = KnockFactory() \n",
    "    reactor.connectTCP(\"localhost\", 8000, f) \n",
    "    reactor.run()\n",
    "\n",
    "if __name__ == '__main__': \n",
    "    main()"
   ]
  },
  {
   "cell_type": "markdown",
   "metadata": {},
   "source": [
    "### asyncio\n",
    "\n",
    "python在3.4加入官方library中，大家最愛的async await\n",
    "\n",
    "比起callback更好可讀性，以及更直覺的呼叫await操作"
   ]
  },
  {
   "cell_type": "code",
   "execution_count": 84,
   "metadata": {},
   "outputs": [
    {
     "name": "stdout",
     "output_type": "stream",
     "text": [
      "Surrender,\n",
      "Dorothy!\n",
      "hello\n",
      "world\n"
     ]
    }
   ],
   "source": [
    "import asyncio\n",
    "\n",
    "async def say(phrase, seconds):\n",
    "    print(phrase)\n",
    "    await asyncio.sleep(seconds)\n",
    "\n",
    "async def wicked():\n",
    "    task_1 = asyncio.create_task(say(\"Surrender,\", 2))\n",
    "    task_2 = asyncio.create_task(say(\"Dorothy!\", 0))\n",
    "    await task_1\n",
    "    await task_2\n",
    "\n",
    "await wicked()\n",
    "\n",
    "await say(\"hello\", 2)\n",
    "await say(\"world\", 0)"
   ]
  },
  {
   "cell_type": "markdown",
   "metadata": {},
   "source": [
    "#### Redis\n",
    "\n",
    "用python與redis資料庫互動，更有效率的用in memory db做存取\n",
    "\n",
    "這本書這邊提到是想講解跨機器的平行處理的方法論\n",
    "\n",
    "不過redis的操作在下一章才有，這邊先跳過範例"
   ]
  },
  {
   "cell_type": "markdown",
   "metadata": {},
   "source": [
    "#### Beyond Queues\n",
    "\n",
    "在最高層級的系統面去看，這些平行處理的系統會遇到一些問題，通常的處理方法如下：\n",
    "\n",
    "- Fire and forget\n",
    "\n",
    "    把執行的事情丟下去就不管了\n",
    "\n",
    "- Request-reply\n",
    "\n",
    "    對於每件request都要等到完成的確認\n",
    "\n",
    "- Back pressure or throttling\n",
    "\n",
    "    根據負載調節worker的使用\n",
    "\n",
    "有一些套件可以負責這些最上層的queue管理\n",
    "\n",
    "- celery : 利用上面提到的gevent, process等去執行分散式的task\n",
    "- rq : python的job queue library，同樣基於redis"
   ]
  }
 ],
 "metadata": {
  "kernelspec": {
   "display_name": "Python 3.9.15 64-bit",
   "language": "python",
   "name": "python3"
  },
  "language_info": {
   "codemirror_mode": {
    "name": "ipython",
    "version": 3
   },
   "file_extension": ".py",
   "mimetype": "text/x-python",
   "name": "python",
   "nbconvert_exporter": "python",
   "pygments_lexer": "ipython3",
   "version": "3.9.15"
  },
  "orig_nbformat": 4,
  "vscode": {
   "interpreter": {
    "hash": "a665b5d41d17b532ea9890333293a1b812fa0b73c9c25c950b3cedf1bebd0438"
   }
  }
 },
 "nbformat": 4,
 "nbformat_minor": 2
}
