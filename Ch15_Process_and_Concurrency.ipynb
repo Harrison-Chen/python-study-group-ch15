{
 "cells": [
  {
   "cell_type": "markdown",
   "metadata": {
    "id": "eDs9bbYQtqG2"
   },
   "source": [
    "# **<font color=#0abab5>Process and Concurrency</font>**"
   ]
  },
  {
   "cell_type": "markdown",
   "metadata": {},
   "source": [
    "repo : [https://github.com/Harrison-Chen/python-study-group-ch15](https://github.com/Harrison-Chen/python-study-group-ch15)"
   ]
  },
  {
   "cell_type": "markdown",
   "metadata": {},
   "source": [
    "### Thread and Processes\n",
    "\n",
    "複習一下os必考題\n",
    "\n",
    "OpenGPT:\n",
    "\n",
    "\n",
    "```\n",
    "程序通常都是由一個或多個進程組成的。進程是計算機內存中的一個執行實例，具有它自己的代碼和數據。它們可以平行執行以提高程序的效率。\n",
    "\n",
    "執行緒（thread）是進程中的一個執行流。它是一個獨立的執行路徑，可以在進程的內存空間中執行。執行緒可以平行執行以提高程序的效率。\n",
    "\n",
    "進程和執行緒之間的主要區別在於它們的執行環境。進程擁有完整的執行環境，包括它自己的內存空間和資源。執行緒則共享進程的內存空間和資源。因此，執行緒更加輕量級，但也受到進程的限制。\n",
    "\n",
    "此外，進程之間是相互隔離的，它們之間不能直接交互。相反，它們必須通過特定的技術，例如共享記憶體或消息傳遞，才能進行通信。執行緒則可以直接訪問進程中的共享資源，因此它們之間的交互更加方便。\n",
    "\n",
    "總之，進程和執行緒都是用於提高程序效率的工具。選擇哪種方法取決於您的程序需求和目標。\n",
    "```"
   ]
  },
  {
   "cell_type": "markdown",
   "metadata": {},
   "source": [
    "### Create a process with subprocess\n",
    "\n",
    "程式碼預設是用一個process去進行，但可以利用os庫的api從process上創造其他的process叫subprocess\n",
    "\n",
    "下面這段利用subprocess程式庫呼叫unix的date，抓取stdout放到變數\n",
    "\n",
    "底下放了很多種用法，可以參考使用"
   ]
  },
  {
   "cell_type": "code",
   "execution_count": 6,
   "metadata": {},
   "outputs": [
    {
     "data": {
      "text/plain": [
       "'Thu Dec  8 21:42:36 CST 2022'"
      ]
     },
     "execution_count": 6,
     "metadata": {},
     "output_type": "execute_result"
    }
   ],
   "source": [
    "import subprocess\n",
    "ret = subprocess.getoutput('date')\n",
    "ret"
   ]
  },
  {
   "cell_type": "code",
   "execution_count": 5,
   "metadata": {},
   "outputs": [
    {
     "data": {
      "text/plain": [
       "'Thu Dec  8 13:42:32 UTC 2022'"
      ]
     },
     "execution_count": 5,
     "metadata": {},
     "output_type": "execute_result"
    }
   ],
   "source": [
    "ret = subprocess.getoutput('date -u')\n",
    "ret"
   ]
  },
  {
   "cell_type": "code",
   "execution_count": 3,
   "metadata": {},
   "outputs": [
    {
     "data": {
      "text/plain": [
       "'       1       6      29'"
      ]
     },
     "execution_count": 3,
     "metadata": {},
     "output_type": "execute_result"
    }
   ],
   "source": [
    "# or with pipe\n",
    "ret = subprocess.getoutput('date -u | wc')\n",
    "ret"
   ]
  },
  {
   "cell_type": "code",
   "execution_count": 7,
   "metadata": {},
   "outputs": [
    {
     "data": {
      "text/plain": [
       "b'Thu Dec  8 13:42:57 UTC 2022\\n'"
      ]
     },
     "execution_count": 7,
     "metadata": {},
     "output_type": "execute_result"
    }
   ],
   "source": [
    "# check_output method\n",
    "ret = subprocess.check_output(['date', '-u'])\n",
    "ret"
   ]
  },
  {
   "cell_type": "code",
   "execution_count": 12,
   "metadata": {},
   "outputs": [
    {
     "data": {
      "text/plain": [
       "(0, '2022年12月 2日 週五 20時37分16秒 CST')"
      ]
     },
     "execution_count": 12,
     "metadata": {},
     "output_type": "execute_result"
    }
   ],
   "source": [
    "# exit code\n",
    "ret = subprocess.getstatusoutput('date')\n",
    "ret"
   ]
  },
  {
   "cell_type": "code",
   "execution_count": 14,
   "metadata": {},
   "outputs": [
    {
     "name": "stdout",
     "output_type": "stream",
     "text": [
      "2022年12月 2日 週五 20時38分41秒 CST\n"
     ]
    },
    {
     "data": {
      "text/plain": [
       "0"
      ]
     },
     "execution_count": 14,
     "metadata": {},
     "output_type": "execute_result"
    }
   ],
   "source": [
    "# dont care output but exit code\n",
    "ret = subprocess.call('date')\n",
    "ret"
   ]
  },
  {
   "cell_type": "code",
   "execution_count": 18,
   "metadata": {},
   "outputs": [
    {
     "name": "stdout",
     "output_type": "stream",
     "text": [
      "2022年12月 2日 週五 12時40分50秒 UTC\n",
      "2022年12月 2日 週五 12時40分50秒 UTC\n"
     ]
    }
   ],
   "source": [
    "# in shell script format\n",
    "ret = subprocess.call('date -u', shell = True)\n",
    "\n",
    "# list of arg way\n",
    "ret = subprocess.call(['date', '-u'])"
   ]
  },
  {
   "cell_type": "markdown",
   "metadata": {},
   "source": [
    "### Create process with multiprocessing\n",
    "\n",
    "用另外一個multiprocess的庫去跑\n",
    "\n",
    "但是jupyter(ipython)上面跑起來會有錯誤\n",
    "\n",
    "解法是要從另外一個檔案連結過來跑，但只是短demo，所以乾脆直接在另一個檔案上面跑"
   ]
  },
  {
   "cell_type": "code",
   "execution_count": 13,
   "metadata": {},
   "outputs": [],
   "source": [
    "# 不能在juypter跑，另外跑\n",
    "from multiprocessing import Process\n",
    "import os\n",
    "\n",
    "def whoami(what):\n",
    "    print(\"Process %s says: %s\" % (os.getpid(), what))\n",
    "\n",
    "if __name__ == \"__main__\": \n",
    "    whoami(\"I'm the main program\") \n",
    "    for n in range(4):\n",
    "        p = Process(target=whoami,\n",
    "            args=(\"I'm function %s\" % n,))\n",
    "        p.start()"
   ]
  },
  {
   "cell_type": "markdown",
   "metadata": {},
   "source": [
    "multipreocessing module非常實用，可以用在所有外部程式的呼叫以及把資料跟python腳本互動\n",
    "\n",
    "在concurrency段落有更多應用"
   ]
  },
  {
   "cell_type": "markdown",
   "metadata": {},
   "source": [
    "#### Kill Process\n",
    "\n",
    "multiprocess有提供terminate接口，可以呼叫os call進行kill process"
   ]
  },
  {
   "cell_type": "code",
   "execution_count": null,
   "metadata": {},
   "outputs": [],
   "source": [
    "# kill process\n",
    "\n",
    "# 另外執行\n",
    "import multiprocessing\n",
    "import time\n",
    "import os\n",
    "def whoami(name):\n",
    "    print(\"I'm %s, in process %s\" % (name, os.getpid()))\n",
    "\n",
    "def loopy(name): \n",
    "    whoami(name)\n",
    "    start = 1\n",
    "    stop = 1000000\n",
    "    for num in range(start, stop):\n",
    "        print(\"\\tNumber %s of %s. Honk!\" % (num, stop))\n",
    "        time.sleep(1)\n",
    "\n",
    "if __name__ == \"__main__\": \n",
    "    whoami(\"main\")\n",
    "    p = multiprocessing.Process(target=loopy, args=(\"loopy\",))\n",
    "    p.start()\n",
    "    time.sleep(5)\n",
    "    p.terminate()"
   ]
  },
  {
   "cell_type": "markdown",
   "metadata": {},
   "source": [
    "### Command Automation\n",
    "\n",
    "用python來管理、執行類似shell script用途的操作\n",
    "\n",
    "#### Invoke\n",
    "把function呼叫轉成command line arguments"
   ]
  },
  {
   "cell_type": "code",
   "execution_count": null,
   "metadata": {},
   "outputs": [],
   "source": [
    "import os\n",
    "os.system('pip install invoke')"
   ]
  },
  {
   "cell_type": "code",
   "execution_count": 43,
   "metadata": {},
   "outputs": [],
   "source": [
    "# run my cli\n",
    "from invoke import task\n",
    "\n",
    "@task\n",
    "def mytime(ctx): \n",
    "    import time\n",
    "    now = time.time()\n",
    "    time_str = time.asctime(time.localtime(now)) \n",
    "    print(\"Local time is\", timestr)"
   ]
  },
  {
   "cell_type": "markdown",
   "metadata": {},
   "source": [
    "### Concurrency\n",
    "\n",
    "平行處理（concurrency）指的是可以同時進行多個任務的能力。這本書舉例了兩個最常見的需要平行處理的情境：\n",
    "\n",
    "- I/O bound：等待網路或硬碟的輸入/輸出操作。\n",
    "\n",
    "- CPU/GPU bound：CPU/GPU在計算一個大的，導致他們一直在忙碌，圖學跟科學計算都是常見情境。\n",
    "\n",
    "此外，這段描述還提到了兩個重要的術語：同步（synchronous）和非同步（asynchronous）。\n",
    "\n",
    "同步指的是連續進行的任務，而非同步指的是各自獨立運行的任務。\n",
    "\n",
    "總而言之，這段描述指出平行處理是一種解決無法等待的情境的方法。\n",
    "\n",
    "與其在那裡忙碌等待(busy-waiting)，不如直接平行處理，做其他服務應該做的事情。"
   ]
  },
  {
   "cell_type": "markdown",
   "metadata": {},
   "source": [
    "### Queues\n",
    "\n",
    "multiprocessing module有著queue function存在，\n",
    "\n",
    "可以將process的呼叫queue起來\n",
    "\n",
    "範例如下："
   ]
  },
  {
   "cell_type": "code",
   "execution_count": null,
   "metadata": {},
   "outputs": [],
   "source": [
    "# 也要另外跑\n",
    "import multiprocessing as mp\n",
    "\n",
    "def washer(dishes, output): \n",
    "    for dish in dishes:\n",
    "        print('Washing', dish, 'dish') \n",
    "        output.put(dish)\n",
    "\n",
    "def dryer(input): \n",
    "    while True:\n",
    "        dish = input.get() \n",
    "        print('Drying', dish, 'dish') \n",
    "        input.task_done()\n",
    "\n",
    "if __name__ == '__main__':\n",
    "    dish_queue = mp.JoinableQueue()\n",
    "    dryer_proc = mp.Process(target=dryer, args=(dish_queue,))\n",
    "    dryer_proc.daemon = True\n",
    "    dryer_proc.start()\n",
    "\n",
    "    dishes = ['salad', 'bread', 'entree', 'dessert']\n",
    "    washer(dishes, dish_queue)\n",
    "    dish_queue.join()"
   ]
  },
  {
   "cell_type": "markdown",
   "metadata": {},
   "source": [
    "### Threads\n",
    "\n",
    "Thread是在同個process中執行，一對多的資源單元\n",
    "跟上面multiprocessing module對應，有著threading的module\n",
    "\n",
    "以下用thread進行類似上面process的任務"
   ]
  },
  {
   "cell_type": "code",
   "execution_count": 53,
   "metadata": {},
   "outputs": [
    {
     "name": "stdout",
     "output_type": "stream",
     "text": [
      "Thread <_MainThread(MainThread, started 4313335168)> says: I'm the main program\n",
      "Thread <Thread(Thread-22, started 6364196864)> says: I'm function 0\n",
      "Thread <Thread(Thread-23, started 6364196864)> says: I'm function 1\n",
      "Thread <Thread(Thread-24, started 6364196864)> says: I'm function 2\n",
      "Thread <Thread(Thread-25, started 6364196864)> says: I'm function 3\n"
     ]
    }
   ],
   "source": [
    "import threading \n",
    "\n",
    "def do_this(what):\n",
    "    whoami(what) \n",
    "\n",
    "def whoami(what):\n",
    "    print(\"Thread %s says: %s\" % (threading.current_thread(), what))\n",
    "\n",
    "if __name__ == \"__main__\": \n",
    "    whoami(\"I'm the main program\") \n",
    "    for n in range(4):\n",
    "        p = threading.Thread(target=do_this,\n",
    "                              args=(\"I'm function %s\" % n,))\n",
    "        p.start()   "
   ]
  },
  {
   "cell_type": "code",
   "execution_count": null,
   "metadata": {},
   "outputs": [],
   "source": [
    "import threading, queue \n",
    "import time\n",
    "\n",
    "def washer(dishes, dish_queue): \n",
    "    for dish in dishes:\n",
    "        print (\"Washing\", dish) \n",
    "        time.sleep(5)\n",
    "        dish_queue.put(dish)\n",
    "def dryer(dish_queue): \n",
    "    while True:\n",
    "        dish = dish_queue.get() \n",
    "        print (\"Drying\", dish) \n",
    "        time.sleep(10) \n",
    "        dish_queue.task_done()\n",
    "\n",
    "dish_queue = queue.Queue() \n",
    "for n in range(2):\n",
    "    dryer_thread = threading.Thread(target=dryer, args=(dish_queue,))\n",
    "    dryer_thread.start()\n",
    "\n",
    "dishes = ['salad', 'bread', 'entree', 'dessert']\n",
    "washer(dishes, dish_queue)\n",
    "\n",
    "dish_queue.join()"
   ]
  },
  {
   "cell_type": "markdown",
   "metadata": {},
   "source": [
    "\n",
    "Threads可能會產生危險的結果，多個thread可能會導致code難以debug。因此，您需要確保在thread中使用的所有API都是thread safe的。\n",
    "\n",
    "在上面的範例中，因為沒有考慮到thread safe，所以執行順序都亂成一團。\n",
    "\n",
    "在使用multi-process的時候，可以確保每個process都是獨立運行的，並且在獨立結束時回報結果。\n",
    "\n",
    "整個process是一整組的，在完成運行後才會回報結果。\n",
    "\n",
    "#### Thread safe\n",
    "\n",
    "當thread沒有使用到global data時，它是安全且好用的。特別是在完成IO操作時，thread可以比process快很多。\n",
    "\n",
    "但是，在許多情況下，thread需要控制一些global data。在這種情況下，thread safe就非常重要，以確保避免preemption。\n",
    "\n",
    "安全地共享資料的一種方法是使用software lock。在lock段落中變更參數時，會禁止其他thread操作該段落。這樣，就可以確保資料在被變更時不會受到其他thread的干擾。\n",
    "\n",
    "#### CPU-bound\n",
    "\n",
    "書上提到python的thread沒辦法解決cpu-bound的問題，因為python interperter的Global Interpreter Lock設計\n",
    "\n",
    "所以跟傳統thread加速不一樣，python的multi-thread可能比single-thread或multi-process更慢\n",
    "\n",
    "所以書上建議：\n",
    "\n",
    "- thread 只用來處理 I/O bound problem\n",
    "- CPU bound用processes, networking or events去解決"
   ]
  },
  {
   "cell_type": "markdown",
   "metadata": {},
   "source": [
    "### concurrent.futures\n",
    "\n",
    "一個thread跟multiple的module用法，可以更方便的schedule async pooled workers\n",
    "\n",
    "照上面所述去解決各自的問題"
   ]
  },
  {
   "cell_type": "code",
   "execution_count": null,
   "metadata": {},
   "outputs": [],
   "source": [
    "# cf1.py\n",
    "from concurrent import futures \n",
    "import math\n",
    "import time\n",
    "import sys\n",
    "def calc(val): \n",
    "    time.sleep(1)\n",
    "    result = math.sqrt(float(val)) \n",
    "    return result\n",
    "\n",
    "def use_threads(num, values): \n",
    "    t1 = time.time()\n",
    "    with futures.ThreadPoolExecutor(num) as tex: \n",
    "        results = tex.map(calc, values)\n",
    "    t2 = time.time() \n",
    "    return t2 - t1\n",
    "\n",
    "def use_processes(num, values): \n",
    "    t1 = time.time()\n",
    "    with futures.ProcessPoolExecutor(num) as pex: \n",
    "        results = pex.map(calc, values)\n",
    "    t2 = time.time() \n",
    "    return t2 - t1\n",
    "\n",
    "def main(workers, values):\n",
    "    print(f\"Using {workers} workers for {len(values)} values\") \n",
    "    t_sec = use_threads(workers, values)\n",
    "    print(f\"Threads took {t_sec:.4f} seconds\")\n",
    "    p_sec = use_processes(workers, values)\n",
    "    print(f\"Processes took {p_sec:.4f} seconds\")\n",
    "    \n",
    "if __name__ == '__main__':\n",
    "    workers = 1\n",
    "    values = list(range(1, 6)) # 1 .. 5 main(workers, values)\n",
    "    main(workers, values)"
   ]
  },
  {
   "cell_type": "code",
   "execution_count": null,
   "metadata": {},
   "outputs": [],
   "source": [
    "# cf2.py\n",
    "from concurrent import futures \n",
    "import math\n",
    "import sys\n",
    "\n",
    "def calc(val):\n",
    "    result = math.sqrt(float(val)) \n",
    "    return val, result\n",
    "\n",
    "def use_threads(num, values):\n",
    "    with futures.ThreadPoolExecutor(num) as tex:\n",
    "        tasks = [tex.submit(calc, value) for value in values] \n",
    "        for f in futures.as_completed(tasks):\n",
    "            yield f.result()\n",
    "\n",
    "def use_processes(num, values):\n",
    "    with futures.ProcessPoolExecutor(num) as pex:\n",
    "        tasks = [pex.submit(calc, value) for value in values] \n",
    "        for f in futures.as_completed(tasks):\n",
    "            yield f.result()\n",
    "\n",
    "def main(workers, values):\n",
    "    print(f\"Using {workers} workers for {len(values)} values\") \n",
    "    print(\"Using threads:\")\n",
    "    for val, result in use_threads(workers, values): \n",
    "        print(f'{val} {result:.4f}')\n",
    "    print(\"Using processes:\")\n",
    "    for val, result in use_processes(workers, values):\n",
    "        print(f'{val} {result:.4f}')\n",
    "\n",
    "if __name__ == '__main__': \n",
    "    workers = 3\n",
    "    if len(sys.argv) > 1:\n",
    "        workers = int(sys.argv[1])\n",
    "    values = list(range(1, 6)) # 1 .. 5 \n",
    "    main(workers, values)"
   ]
  },
  {
   "cell_type": "markdown",
   "metadata": {},
   "source": [
    "### Green Threads and gevent\n",
    "\n",
    "openGPT解釋：\n",
    "```\n",
    "Python的Green Threads是一種用戶級的線程實現，它允許用戶在單個進程中創建多個線程。它與操作系統提供的線程不同，操作系統線程是由操作系統調度的，而Green Threads是由Python解釋器調度的。\n",
    "\n",
    "Green Threads在Python 2.6中引入，但在Python 3.2中被標記為廢弃。在Python 3.2和更高版本中，Python使用操作系統提供的線程。\n",
    "\n",
    "gevent是一個用於網絡應用程序的庫，它使用Green Threads來處理並發。它通過提供一組工具，使得開發人員可以在不使用多線程的情況下實現並發。它可以幫助開發人員更輕鬆地處理高並發的網絡應用程序，因為它可以避免多線程程序設計中的一些常見問題，如競爭條件和死鎖。\n",
    "```\n",
    "\n",
    "平行化是一種在多核處理器上運行程序的方法，用於加速程序運行。 Apache是一個支持多線程的Web服務器，它可以使用多個線程來同時處理多個請求。\n",
    "\n",
    "另一方面，事件驅動程序通過使用中心事件循環來分配任務和進行工作。 NGINX是一個基於事件的Web服務器，它可以通過使用單個線程來高效地處理大量請求。由於它使用的是單線程，\n",
    "\n",
    "因此通常比多線程的Web服務器（如Apache）更快。"
   ]
  },
  {
   "cell_type": "code",
   "execution_count": null,
   "metadata": {},
   "outputs": [],
   "source": [
    "import os\n",
    "\n",
    "os.system('pip install gevent')"
   ]
  },
  {
   "cell_type": "code",
   "execution_count": 19,
   "metadata": {},
   "outputs": [
    {
     "name": "stdout",
     "output_type": "stream",
     "text": [
      "66.6.44.4\n",
      "144.217.51.126\n",
      "172.217.163.36\n"
     ]
    }
   ],
   "source": [
    "import gevent\n",
    "from gevent import socket\n",
    "hosts = ['www.crappytaxidermy.com', 'www.walterpottertaxidermy.com',\n",
    "'www.google.com']\n",
    "jobs = [gevent.spawn(gevent.socket.gethostbyname, host) for host in hosts] \n",
    "gevent.joinall(jobs, timeout=5)\n",
    "for job in jobs:\n",
    "    print(job.value)"
   ]
  },
  {
   "cell_type": "markdown",
   "metadata": {},
   "source": [
    "gevent提供了一種使用Green Threads的方法，該方法可以通過生成greenlet（green thread/microthread）來實現平行。\n",
    "\n",
    "這些greenlet各自運行其事件，然後在完成後收集結果。\n",
    "\n",
    "Green Threads和OS提供的線程有所不同。 Green Threads不會阻塞，因此在等待時，gevent會切換到其他greenlets。 Greenlets之間主要通過yield來進行交互，而不是通過搶占資源。\n",
    "\n",
    "Green Threads的實現方式與fiber類似，因為它們都是用戶級的線程實現，並且由解釋器調度。"
   ]
  },
  {
   "cell_type": "markdown",
   "metadata": {},
   "source": [
    "#### gevent.monkey\n",
    "\n",
    "gevent提供了一個 monkey 模塊，其中包含一種方法（ patch_socket ），可以替換掉程式中的 socket 呼叫，以便使用 gevent 版本。\n",
    "\n",
    "使用方法如下：\n",
    "\n",
    "```\n",
    "from gevent import monkey\n",
    "monkey.patch_socket()\n",
    "```\n",
    "\n",
    "呼叫上面這行，會讓程式中所有socket呼叫變成gevent版本\n",
    "\n",
    "請注意，這種方法只會替換 Python 寫的函數集。對於用 C 語言寫的函數，它不會進行替換。"
   ]
  },
  {
   "cell_type": "code",
   "execution_count": 65,
   "metadata": {},
   "outputs": [
    {
     "name": "stdout",
     "output_type": "stream",
     "text": [
      "66.6.44.4\n",
      "144.217.51.126\n",
      "172.217.163.36\n"
     ]
    }
   ],
   "source": [
    "import gevent\n",
    "from gevent import monkey; monkey.patch_all()\n",
    "import socket\n",
    "hosts = ['www.crappytaxidermy.com', 'www.walterpottertaxidermy.com',\n",
    "'www.google.com']\n",
    "\n",
    "jobs = [gevent.spawn(socket.gethostbyname, host) for host in hosts] \n",
    "\n",
    "gevent.joinall(jobs, timeout=5)\n",
    "for job in jobs:\n",
    "    print(job.value)"
   ]
  },
  {
   "cell_type": "markdown",
   "metadata": {},
   "source": [
    "#### gevent的問題\n",
    "\n",
    "和所有event-based的程式碼一樣，每一個指派給gevent的任務都應該相對快速。\n",
    "\n",
    "儘管相對於多線程，gevent具有非阻塞特性，但在其上進行大量運算仍然可能很慢。\n",
    "\n",
    "儘管 monkey-patching 的大量替換方式可能會感覺有點危險，但許多大型網站（如 Pinterest）都使用 gevent 來加速他們的網站。最好多查看 gevent 的官方指引，以避免使用錯誤。\n",
    "\n",
    "\n",
    "\n"
   ]
  },
  {
   "cell_type": "markdown",
   "metadata": {},
   "source": [
    "### Twisted\n",
    "\n",
    "twisted 是一個非同步、事件驅動的網路框架，可以聆聽一些事件的觸發來執行function。\n",
    "\n",
    "是一個callback design"
   ]
  },
  {
   "cell_type": "code",
   "execution_count": null,
   "metadata": {},
   "outputs": [],
   "source": [
    "import os\n",
    "\n",
    "os.system('pip install twisted')"
   ]
  },
  {
   "cell_type": "code",
   "execution_count": null,
   "metadata": {},
   "outputs": [],
   "source": [
    "# knock-server\n",
    "\n",
    "from twisted.internet import protocol, reactor\n",
    "\n",
    "class Knock(protocol.Protocol): \n",
    "    def dataReceived(self, data):\n",
    "        print('Client:', data)\n",
    "        if data.startswith(\"Knock knock\"):\n",
    "            response = \"Who's there?\" \n",
    "        else:\n",
    "            response = data + \" who?\" \n",
    "            print('Server:', response) \n",
    "            self.transport.write(response)\n",
    "class KnockFactory(protocol.Factory): \n",
    "    def buildProtocol(self, addr):\n",
    "        return Knock()\n",
    "\n",
    "reactor.listenTCP(8000, KnockFactory())\n",
    "reactor.run()"
   ]
  },
  {
   "cell_type": "code",
   "execution_count": null,
   "metadata": {},
   "outputs": [],
   "source": [
    "# knock-client\n",
    "\n",
    "from twisted.internet import reactor, protocol\n",
    "\n",
    "class KnockClient(protocol.Protocol): \n",
    "    def connectionMade(self):\n",
    "        self.transport.write(\"Knock knock\")\n",
    "    def dataReceived(self, data):\n",
    "        if data.startswith(\"Who's there?\"):\n",
    "            response = \"Disappearing client\"\n",
    "            self.transport.write(response) \n",
    "        else:\n",
    "            self.transport.loseConnection()\n",
    "            reactor.stop()\n",
    "class KnockFactory(protocol.ClientFactory): \n",
    "    protocol = KnockClient\n",
    "\n",
    "def main():\n",
    "    f = KnockFactory() \n",
    "    reactor.connectTCP(\"localhost\", 8000, f) \n",
    "    reactor.run()\n",
    "\n",
    "if __name__ == '__main__': \n",
    "    main()"
   ]
  },
  {
   "cell_type": "markdown",
   "metadata": {},
   "source": [
    "### asyncio\n",
    "\n",
    "python在3.4加入官方library中，大家的最愛async await\n",
    "\n",
    "比起callback更好可讀性，以及更直覺的呼叫await操作"
   ]
  },
  {
   "cell_type": "code",
   "execution_count": 84,
   "metadata": {},
   "outputs": [
    {
     "name": "stdout",
     "output_type": "stream",
     "text": [
      "Surrender,\n",
      "Dorothy!\n",
      "hello\n",
      "world\n"
     ]
    }
   ],
   "source": [
    "import asyncio\n",
    "\n",
    "async def say(phrase, seconds):\n",
    "    print(phrase)\n",
    "    await asyncio.sleep(seconds)\n",
    "\n",
    "async def wicked():\n",
    "    task_1 = asyncio.create_task(say(\"Surrender,\", 2))\n",
    "    task_2 = asyncio.create_task(say(\"Dorothy!\", 0))\n",
    "    await task_1\n",
    "    await task_2\n",
    "\n",
    "await wicked()\n",
    "\n",
    "await say(\"hello\", 2)\n",
    "await say(\"world\", 0)"
   ]
  },
  {
   "cell_type": "markdown",
   "metadata": {},
   "source": [
    "#### Redis\n",
    "\n",
    "用python與redis資料庫互動，更有效率的用in memory db做存取\n",
    "\n",
    "這本書這邊提到是想講解跨機器的平行處理的方法論\n",
    "\n",
    "不過redis的操作在下一章才有，這邊先跳過"
   ]
  },
  {
   "cell_type": "markdown",
   "metadata": {},
   "source": [
    "#### Beyond Queues\n",
    "\n",
    "在high-level的系統設計上，平行處理的系統可能會遇到一些問題。\n",
    "通常的解決方案包括：\n",
    "\n",
    "- 火放並忘記（Fire and forget）：把執行的事情丟下去就不管了。\n",
    "- 請求回復（Request-reply）：對於每個請求都要等到完成的確認。\n",
    "- 壓力反應或調速（Back pressure or throttling）：根據負載調節工作程序的使用。\n",
    "\n",
    "\n",
    "有一些套件可以負責管理這些最高層的佇列。例如：\n",
    "\n",
    "celery：利用上面提到的 gevent、process 等來執行分散式的任務。\n",
    "rq：python 的工作佇列庫，基於 redis。"
   ]
  },
  {
   "cell_type": "markdown",
   "metadata": {},
   "source": [
    "## Discussion\n",
    "[https://docs.google.com/spreadsheets/d/1va_JEoP7RNDqNpUGJCBC6cstIWQCCrFpz0WmzmRXY-8/edit#gid=0\n",
    "](https://docs.google.com/spreadsheets/d/1va_JEoP7RNDqNpUGJCBC6cstIWQCCrFpz0WmzmRXY-8/edit#gid=0\n",
    ")\n",
    "- 遇過什麼印象深刻的多執行緒程式碼範例\n",
    "\n",
    "- 在其他語言中process/thread/green-thread(fiber)的應用跟python有什麼相同與不同之處"
   ]
  }
 ],
 "metadata": {
  "kernelspec": {
   "display_name": "Python 3.9.15 64-bit",
   "language": "python",
   "name": "python3"
  },
  "language_info": {
   "codemirror_mode": {
    "name": "ipython",
    "version": 3
   },
   "file_extension": ".py",
   "mimetype": "text/x-python",
   "name": "python",
   "nbconvert_exporter": "python",
   "pygments_lexer": "ipython3",
   "version": "3.9.15"
  },
  "orig_nbformat": 4,
  "vscode": {
   "interpreter": {
    "hash": "a665b5d41d17b532ea9890333293a1b812fa0b73c9c25c950b3cedf1bebd0438"
   }
  }
 },
 "nbformat": 4,
 "nbformat_minor": 2
}
